{
 "cells": [
  {
   "cell_type": "code",
   "execution_count": null,
   "metadata": {},
   "outputs": [],
   "source": [
    "import requests\n",
    "import json\n",
    "\n",
    "def fetch_protein_summary(pdb_id):\n",
    "    url = f\"https://www.ebi.ac.uk/pdbe/api/pdb/entry/summary/{pdb_id}\"\n",
    "    response = requests.get(url)\n",
    "    if response.status_code == 200:\n",
    "        return response.json()\n",
    "    else:\n",
    "        print(\"Failed to retrieve summary data\")\n",
    "        return None\n",
    "\n",
    "def fetch_protein_sequences(pdb_id):\n",
    "    url = f\"https://www.ebi.ac.uk/pdbe/api/pdb/entry/entities/{pdb_id}\"\n",
    "    response = requests.get(url)\n",
    "    if response.status_code == 200:\n",
    "        return response.json()\n",
    "    else:\n",
    "        print(\"Failed to retrieve sequence data\")\n",
    "        return None\n",
    "\n",
    "# Example usage\n",
    "pdb_id = '5G6U'\n",
    "protein_summary = fetch_protein_summary(pdb_id)\n",
    "protein_sequences = fetch_protein_sequences(pdb_id)\n",
    "\n",
    "# print(\"Summary Data:\")\n",
    "# print(json.dumps(protein_summary, indent=4))\n",
    "\n",
    "print(\"\\nSequence Data:\")\n",
    "print(json.dumps(protein_sequences, indent=4))\n",
    "for entity in protein_sequences[pdb_id.lower()]:\n",
    "    if entity['molecule_type'] == 'polypeptide(L)':\n",
    "        print(f\"Chain ID: {entity['in_chains'][0]}, Sequence: {entity['sequence']}, Length: {len(entity['sequence'])}\")\n"
   ]
  },
  {
   "cell_type": "code",
   "execution_count": 3,
   "metadata": {},
   "outputs": [
    {
     "name": "stdout",
     "output_type": "stream",
     "text": [
      "PDB file downloaded to results/5G6U.pdb\n"
     ]
    }
   ],
   "source": [
    "import requests\n",
    "import os\n",
    "\n",
    "def download_pdb_file(pdb_id, directory='results'):\n",
    "    url = f\"http://files.rcsb.org/download/{pdb_id}.pdb\"\n",
    "    response = requests.get(url)\n",
    "    if response.status_code == 200:\n",
    "        os.makedirs(directory, exist_ok=True)\n",
    "        file_path = os.path.join(directory, f\"{pdb_id}.pdb\")\n",
    "        with open(file_path, 'w') as file:\n",
    "            file.write(response.text)\n",
    "        return file_path\n",
    "    else:\n",
    "        print(\"Failed to download PDB file\")\n",
    "        return None\n",
    "\n",
    "# Example usage\n",
    "pdb_id = '5G6U'\n",
    "pdb_file_path = download_pdb_file(pdb_id)\n",
    "\n",
    "if pdb_file_path:\n",
    "    # Here you would need to run DSSP or another tool on the downloaded PDB file\n",
    "    print(f\"PDB file downloaded to {pdb_file_path}\")\n",
    "    # Analyze the file with DSSP or other tools here\n"
   ]
  },
  {
   "cell_type": "code",
   "execution_count": 9,
   "metadata": {},
   "outputs": [
    {
     "name": "stderr",
     "output_type": "stream",
     "text": [
      "/mnt/nvme/home/bbabatun/.local/lib/python3.8/site-packages/Bio/PDB/StructureBuilder.py:89: PDBConstructionWarning: WARNING: Chain A is discontinuous at line 14061.\n",
      "  warnings.warn(\n",
      "/mnt/nvme/home/bbabatun/.local/lib/python3.8/site-packages/Bio/PDB/StructureBuilder.py:89: PDBConstructionWarning: WARNING: Chain B is discontinuous at line 14112.\n",
      "  warnings.warn(\n",
      "/mnt/nvme/home/bbabatun/.local/lib/python3.8/site-packages/Bio/PDB/StructureBuilder.py:89: PDBConstructionWarning: WARNING: Chain C is discontinuous at line 14167.\n",
      "  warnings.warn(\n",
      "/mnt/nvme/home/bbabatun/.local/lib/python3.8/site-packages/Bio/PDB/StructureBuilder.py:89: PDBConstructionWarning: WARNING: Chain D is discontinuous at line 14193.\n",
      "  warnings.warn(\n",
      "/mnt/nvme/home/bbabatun/.local/lib/python3.8/site-packages/Bio/PDB/StructureBuilder.py:89: PDBConstructionWarning: WARNING: Chain A is discontinuous at line 14244.\n",
      "  warnings.warn(\n",
      "/mnt/nvme/home/bbabatun/.local/lib/python3.8/site-packages/Bio/PDB/StructureBuilder.py:89: PDBConstructionWarning: WARNING: Chain B is discontinuous at line 14399.\n",
      "  warnings.warn(\n",
      "/mnt/nvme/home/bbabatun/.local/lib/python3.8/site-packages/Bio/PDB/StructureBuilder.py:89: PDBConstructionWarning: WARNING: Chain C is discontinuous at line 14537.\n",
      "  warnings.warn(\n",
      "/mnt/nvme/home/bbabatun/.local/lib/python3.8/site-packages/Bio/PDB/StructureBuilder.py:89: PDBConstructionWarning: WARNING: Chain D is discontinuous at line 14663.\n",
      "  warnings.warn(\n"
     ]
    }
   ],
   "source": [
    "from Bio.PDB import PDBParser, DSSP, PPBuilder\n",
    "\n",
    "def run_dssp(pdb_file_path):\n",
    "    parser = PDBParser()\n",
    "    structure = parser.get_structure(\"protein\", pdb_file_path)\n",
    "    model = structure[0]  # Analyze the first model in the PDB file\n",
    "\n",
    "    dssp = DSSP(model, pdb_file_path, dssp=\"/usr/bin/dssp\")  # Specify the path to your DSSP executable\n",
    "    amino_acids = []\n",
    "    ss3 = []\n",
    "    asa = []\n",
    "    phi = []\n",
    "    psi = []\n",
    "    for residue in dssp:\n",
    "        amino_acids.append(residue[0])\n",
    "        ss3.append(residue[2])  # SS3\n",
    "        asa.append(residue[3])  # ASA\n",
    "        phi.append(residue[4])\n",
    "        psi.append(residue[5])\n",
    "    # end for\n",
    "\n",
    "    return amino_acids, ss3, asa, phi, psi\n",
    "# end def\n",
    "amino_acids, ss3, asa, phi, psi = run_dssp(pdb_file_path)"
   ]
  },
  {
   "cell_type": "code",
   "execution_count": 22,
   "metadata": {},
   "outputs": [
    {
     "name": "stdout",
     "output_type": "stream",
     "text": [
      "<Model id=0>\n",
      "model\n",
      "Chain A Sequence: SQGWKYFKGNFYYFSLIPKTWYSAEQFCVSRNSHLTSVTSESEQEFLYKTAGGLIYWIGLTKAGMEGDWSWVDDTPFNKVQSVRFWIPGEPNNAGNNEHCGNIKAPSLQAWNDAPCDKTFLFICKRPYVPS, Length: 131\n",
      "Chain B Sequence: GWKYFKGNFYYFSLIPKTWYSAEQFCVSRNSHLTSVTSESEQEFLYKTAGGLIYWIGLTKAGMEGDWSWVDDTPFNKVQSVRFWIPGEPNNAGNNEHCGNIKAPSLQAWNDAPCDKTFLFICKRPYVP, Length: 128\n",
      "Chain C Sequence: GWKYFKGNFYYFSLIPKTWYSAEQFCVSRNSHLTSVTSESEQEFLYKTAGGLIYWIGLTKAGMEGDWSWVDDTPFNKVQSVRFWIPGEPNNAGNNEHCGNIKAPSLQAWNDAPCDKTFLFICKRPYVP, Length: 128\n",
      "Chain D Sequence: GWKYFKGNFYYFSLIPKTWYSAEQFCVSRNSHLTSVTSESEQEFLYKTAGGLIYWIGLTKAGMEGDWSWVDDTPFNKVQSVRFWIPGEPNNAGNNEHCGNIKAPSLQAWNDAPCDKTFLFICKRPYV, Length: 127\n"
     ]
    },
    {
     "name": "stderr",
     "output_type": "stream",
     "text": [
      "/mnt/nvme/home/bbabatun/.local/lib/python3.8/site-packages/Bio/PDB/StructureBuilder.py:89: PDBConstructionWarning: WARNING: Chain A is discontinuous at line 14061.\n",
      "  warnings.warn(\n",
      "/mnt/nvme/home/bbabatun/.local/lib/python3.8/site-packages/Bio/PDB/StructureBuilder.py:89: PDBConstructionWarning: WARNING: Chain B is discontinuous at line 14112.\n",
      "  warnings.warn(\n",
      "/mnt/nvme/home/bbabatun/.local/lib/python3.8/site-packages/Bio/PDB/StructureBuilder.py:89: PDBConstructionWarning: WARNING: Chain C is discontinuous at line 14167.\n",
      "  warnings.warn(\n",
      "/mnt/nvme/home/bbabatun/.local/lib/python3.8/site-packages/Bio/PDB/StructureBuilder.py:89: PDBConstructionWarning: WARNING: Chain D is discontinuous at line 14193.\n",
      "  warnings.warn(\n",
      "/mnt/nvme/home/bbabatun/.local/lib/python3.8/site-packages/Bio/PDB/StructureBuilder.py:89: PDBConstructionWarning: WARNING: Chain A is discontinuous at line 14244.\n",
      "  warnings.warn(\n",
      "/mnt/nvme/home/bbabatun/.local/lib/python3.8/site-packages/Bio/PDB/StructureBuilder.py:89: PDBConstructionWarning: WARNING: Chain B is discontinuous at line 14399.\n",
      "  warnings.warn(\n",
      "/mnt/nvme/home/bbabatun/.local/lib/python3.8/site-packages/Bio/PDB/StructureBuilder.py:89: PDBConstructionWarning: WARNING: Chain C is discontinuous at line 14537.\n",
      "  warnings.warn(\n",
      "/mnt/nvme/home/bbabatun/.local/lib/python3.8/site-packages/Bio/PDB/StructureBuilder.py:89: PDBConstructionWarning: WARNING: Chain D is discontinuous at line 14663.\n",
      "  warnings.warn(\n"
     ]
    }
   ],
   "source": [
    "from Bio.PDB import PDBParser, DSSP, PPBuilder\n",
    "\n",
    "def run_dssp(pdb_file_path):\n",
    "    parser = PDBParser()\n",
    "    structure = parser.get_structure(\"protein\", pdb_file_path)\n",
    "    model = structure[0]  # Analyze the first model in the PDB file\n",
    "    print(model)\n",
    "\n",
    "    # dssp = DSSP(model, pdb_file_path, dssp=\"/usr/bin/dssp\")  # Specify the path to your DSSP executable\n",
    "    ppb = PPBuilder()\n",
    "    chain_id = \"A\"\n",
    "    for model in structure:\n",
    "        print('model')\n",
    "        for chain in model:\n",
    "            # if chain.id == chain_id:\n",
    "                # Extracting the amino acid sequences from the chain\n",
    "            for pp in ppb.build_peptides(chain):\n",
    "                sequence = pp.get_sequence()\n",
    "                print(f\"Chain {chain.id} Sequence: {sequence}, Length: {len(sequence)}\")\n",
    "\n",
    "# If no sequence is printed, it means the specified chain was not found\n",
    "    # end for\n",
    "\n",
    "    return amino_acids, ss3, asa, phi, psi\n",
    "# end def\n",
    "amino_acids, ss3, asa, phi, psi = run_dssp(pdb_file_path)"
   ]
  },
  {
   "cell_type": "code",
   "execution_count": 10,
   "metadata": {},
   "outputs": [
    {
     "name": "stdout",
     "output_type": "stream",
     "text": [
      "514\n"
     ]
    }
   ],
   "source": [
    "print(len(amino_acids))"
   ]
  }
 ],
 "metadata": {
  "kernelspec": {
   "display_name": "idlf23",
   "language": "python",
   "name": "python3"
  },
  "language_info": {
   "codemirror_mode": {
    "name": "ipython",
    "version": 3
   },
   "file_extension": ".py",
   "mimetype": "text/x-python",
   "name": "python",
   "nbconvert_exporter": "python",
   "pygments_lexer": "ipython3",
   "version": "3.8.10 (default, Sep 28 2021, 16:10:42) \n[GCC 9.3.0]"
  },
  "orig_nbformat": 4,
  "vscode": {
   "interpreter": {
    "hash": "0e96ed978892fa1328c525a5c5744ed648b1e603d99637a2d5cb2c8c84d38b89"
   }
  }
 },
 "nbformat": 4,
 "nbformat_minor": 2
}
