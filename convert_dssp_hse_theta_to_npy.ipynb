{
 "cells": [
  {
   "cell_type": "code",
   "execution_count": 81,
   "metadata": {},
   "outputs": [],
   "source": [
    "import pandas as pd\n",
    "import numpy as np\n",
    "import os"
   ]
  },
  {
   "attachments": {},
   "cell_type": "markdown",
   "metadata": {},
   "source": [
    "Placeholder Values: Use a specific placeholder value to indicate missing data. For dihedral angles, which typically range between -180 and 180 degrees, you might use an out-of-range value like -999 as a placeholder. For HSE, which are typically non-negative, a negative placeholder could be used. The neural network can potentially learn to interpret these values appropriately.\n"
   ]
  },
  {
   "cell_type": "code",
   "execution_count": 82,
   "metadata": {},
   "outputs": [],
   "source": [
    "def get_protein_names(file_name_lists):\n",
    "    # read the name of the proteins\n",
    "    with open(file_name_lists, 'r') as file:\n",
    "        prot_names = [line.strip() for line in file]\n",
    "    # end with\n",
    "    # print(prot_names)\n",
    "    return prot_names\n",
    "# end def"
   ]
  },
  {
   "cell_type": "code",
   "execution_count": 83,
   "metadata": {},
   "outputs": [],
   "source": [
    "def get_dssp_info(dssp_file_name):\n",
    "    \"\"\"\n",
    "    dssp_file_name includes file path and extension\n",
    "    \"\"\"\n",
    "    with open(dssp_file_name, 'r') as file:\n",
    "        lines = file.readlines()\n",
    "    # end with\n",
    "\n",
    "    # Extracting the relevant lines\n",
    "    amino_acid_code = lines[1].strip()\n",
    "    ss3 = lines[2].strip()\n",
    "    phi_angles = lines[3].strip().split()\n",
    "    psi_angles = lines[4].strip().split()\n",
    "    asa = lines[5].strip().split()\n",
    "\n",
    "    # Creating the dataframe\n",
    "    dssp = pd.DataFrame({\n",
    "        'AA CODE': list(amino_acid_code),\n",
    "        'SS3': list(ss3),\n",
    "        'PHI': phi_angles,\n",
    "        'PSI': psi_angles,\n",
    "        'ASA': asa\n",
    "    })\n",
    "\n",
    "    # this converts to float numbers and accounts for 'X'\n",
    "    # converts missing 'X' to Nan\n",
    "    dssp['PHI'] = pd.to_numeric(dssp['PHI'], errors='coerce')\n",
    "    dssp['PSI'] = pd.to_numeric(dssp['PSI'], errors='coerce')\n",
    "    dssp['ASA'] = pd.to_numeric(dssp['ASA'], errors='coerce') \n",
    "    return dssp\n",
    "# end def"
   ]
  },
  {
   "cell_type": "code",
   "execution_count": 84,
   "metadata": {},
   "outputs": [],
   "source": [
    "def get_theta_info(theta_file_name):\n",
    "    \"\"\"\n",
    "    theta_file_name includes file path and extension\n",
    "    \"\"\"\n",
    "    columns = ['RES NUM', 'AA CODE', 'THETA', 'TAU', 'OMEGA']\n",
    "    # creates data frame from file\n",
    "    theta = pd.read_csv(theta_file_name, sep=' ', names=columns)\n",
    "\n",
    "    # this converts to float or ints and accounts for 'X' to NaN\n",
    "    theta['THETA']  = pd.to_numeric(theta['THETA'], errors='coerce')\n",
    "    theta['TAU']    = pd.to_numeric(theta['TAU'], errors='coerce')\n",
    "    theta['OMEGA']  = pd.to_numeric(theta['OMEGA'], errors='coerce')\n",
    "\n",
    "    return theta\n",
    "# end def"
   ]
  },
  {
   "cell_type": "code",
   "execution_count": 85,
   "metadata": {},
   "outputs": [],
   "source": [
    "def get_hse_info(hse_file_name, CASP=False):\n",
    "    \"\"\"\n",
    "    hse_file_name includes file path and extension\n",
    "    \"\"\"\n",
    "\n",
    "    # Read the first line of the file to determine the number of columns\n",
    "    with open(hse_file_name, 'r') as file:\n",
    "        first_line = file.readline()\n",
    "        num_columns = len(first_line.split())\n",
    "\n",
    "    # Define the columns based on the number of columns in the file\n",
    "    if num_columns == 6:\n",
    "        columns = ['AA NAME', 'RES NUM', 'AA CODE', \n",
    "                   'HSE TOTAL', 'HSE UP', 'HSE DOWN']\n",
    "    elif num_columns == 7:\n",
    "        columns = ['AA NAME', 'CHAIN ID', 'RES NUM', 'AA CODE', \n",
    "                   'HSE TOTAL', 'HSE UP', 'HSE DOWN']\n",
    "    else:\n",
    "        raise ValueError(f\"Unexpected number of columns: {num_columns}\")\n",
    "\n",
    "    # Attempt to read the file\n",
    "    hse = pd.read_csv(hse_file_name, sep=r'\\s+', names=columns)\n",
    "\n",
    "    # this converts to float or ints and accounts for 'X' to NaN\n",
    "    if 'CHAIN ID' not in hse.columns:\n",
    "        hse['CHAIN ID'] = 'A'\n",
    "        # hse['CHAIN ID'] = pd.to_numeric(hse['CHAIN ID'], errors='coerce')\n",
    "    # end if\n",
    "    hse['RES NUM'] = pd.to_numeric(hse['RES NUM'], errors='coerce')\n",
    "    hse['HSE TOTAL'] = pd.to_numeric(hse['HSE TOTAL'], errors='coerce')\n",
    "    hse['HSE UP'] = pd.to_numeric(hse['HSE UP'], errors='coerce')\n",
    "    hse['HSE DOWN'] = pd.to_numeric(hse['HSE DOWN'], errors='coerce')\n",
    "\n",
    "    return hse\n",
    "# end def"
   ]
  },
  {
   "cell_type": "code",
   "execution_count": 86,
   "metadata": {},
   "outputs": [],
   "source": [
    "def convert_data_to_numpy(file_name_lists, data_folder='spot_1d_lm', lists_folder = 'lists', dssp_folder = 'dssp', hse_folder = 'hse', theta_folder = 'theta', numpy_folder = 'labels'):\n",
    "    \"\"\"\n",
    "    file_name_lists does not include paths\n",
    "    only file name and extension\n",
    "    \"\"\"\n",
    "    dssp_ext = '.dssp'\n",
    "    hse_ext = '.h'\n",
    "    theta_ext = '.t'\n",
    "    numpy_ext = '.npy'\n",
    "    file_name_lists = os.path.join(os.getcwd(), data_folder, lists_folder, file_name_lists)\n",
    "    protein_names = get_protein_names(file_name_lists)\n",
    "    \n",
    "    for protein in protein_names:\n",
    "        dssp_file_name = protein + dssp_ext\n",
    "        dssp_file_name = os.path.join(os.getcwd(), data_folder, dssp_folder, dssp_file_name)\n",
    "\n",
    "        hse_file_name = protein + hse_ext\n",
    "        hse_file_name = os.path.join(os.getcwd(), data_folder, hse_folder, hse_file_name)\n",
    "\n",
    "        theta_file_name = protein + theta_ext\n",
    "        theta_file_name = os.path.join(os.getcwd(), data_folder, theta_folder, theta_file_name)\n",
    "        # print(protein)\n",
    "        dssp = get_dssp_info(dssp_file_name)\n",
    "        hse  = get_hse_info(hse_file_name)\n",
    "        theta = get_theta_info(theta_file_name)\n",
    "\n",
    "        hse_dssp = pd.merge(hse, dssp, \n",
    "                            how='inner', \n",
    "                            suffixes=('', '_remove'),\n",
    "                            left_index=True,\n",
    "                            right_index=True)\n",
    "\n",
    "        hse_dssp.drop([i for i in hse_dssp.columns if 'remove' in i], axis=1, inplace=True)\n",
    "\n",
    "        protein_data = pd.merge(hse_dssp, theta,\n",
    "                                how='inner', \n",
    "                                suffixes=('', '_remove'),\n",
    "                                left_index=True,\n",
    "                                right_index=True)\n",
    "        \n",
    "        protein_data.drop([i for i in protein_data.columns if 'remove' in i], axis=1, inplace=True)\n",
    "\n",
    "        # Reorder columns\n",
    "        desired_order = ['AA NAME', 'CHAIN ID', 'RES NUM', 'AA CODE', 'SS3', 'ASA', 'HSE TOTAL', 'HSE UP', 'HSE DOWN', 'PHI', 'PSI', 'THETA', 'TAU', 'OMEGA']\n",
    "        protein_data = protein_data[desired_order]\n",
    "\n",
    "        protein_data_file_name = os.path.join(os.getcwd(), data_folder, numpy_folder, protein + numpy_ext)\n",
    "        np.save(protein_data_file_name, protein_data.to_numpy())\n",
    "        # protein_data.to_csv(protein_data_file_name)\n",
    "    # end for\n",
    "    # return protein_data, dssp\n",
    "# end def\n"
   ]
  },
  {
   "cell_type": "code",
   "execution_count": 87,
   "metadata": {},
   "outputs": [],
   "source": [
    "# convert_data_to_numpy(\"val.txt\")\n",
    "# convert_data_to_numpy(\"train.txt\")"
   ]
  },
  {
   "cell_type": "code",
   "execution_count": 88,
   "metadata": {},
   "outputs": [
    {
     "data": {
      "text/plain": [
       "14"
      ]
     },
     "execution_count": 88,
     "metadata": {},
     "output_type": "execute_result"
    }
   ],
   "source": [
    "len(['AA NAME', 'CHAIN ID', 'RES NUM', 'AA CODE', 'SS3', 'ASA', 'HSE TOTAL', 'HSE UP', 'HSE DOWN', 'PHI', 'PSI', 'THETA', 'TAU', 'OMEGA'])"
   ]
  },
  {
   "cell_type": "code",
   "execution_count": 90,
   "metadata": {},
   "outputs": [],
   "source": [
    "convert_data_to_numpy(\"casp12.txt\")\n",
    "convert_data_to_numpy(\"casp13.txt\")\n",
    "convert_data_to_numpy(\"casp14.txt\")"
   ]
  },
  {
   "cell_type": "code",
   "execution_count": null,
   "metadata": {},
   "outputs": [],
   "source": [
    "convert_data_to_numpy(\"TEST2020-HQ.txt\")\n",
    "convert_data_to_numpy(\"TEST2018.txt\")\n",
    "convert_data_to_numpy(\"Neff1-2020.txt\")"
   ]
  },
  {
   "attachments": {},
   "cell_type": "markdown",
   "metadata": {},
   "source": [
    "# parent = os.getcwd() # '/mnt/nvme/home/bbabatun/IDL/PROJECT/SPOT-1D-LM'\n",
    "\n",
    "data_folder = 'spot_1d_lm'\n",
    "lists_folder = 'lists'\n",
    "dssp_folder = 'dssp'\n",
    "hse_folder = 'hse'\n",
    "theta_folder = 'theta'\n",
    "csv_folder = 'csv'\n",
    "\n",
    "dssp_ext = '.dssp'\n",
    "hse_ext = '.h'\n",
    "theta_ext = '.t'\n",
    "\n",
    "file_name_lists = \"train.txt\"\n",
    "\n",
    "file_name_lists = os.path.join(os.getcwd(), data_folder, lists_folder, file_name_lists)\n",
    "\n",
    "prot_names = get_protein_names(file_name_lists)"
   ]
  },
  {
   "cell_type": "code",
   "execution_count": null,
   "metadata": {},
   "outputs": [],
   "source": [
    "\"\"\"\n",
    ".DSSP FILE\n",
    "PROTEIN NAME\n",
    "AA CODE\n",
    "SS3\n",
    "PHI\n",
    "PSI\n",
    "ASA\n",
    "\n",
    ".T FILE\n",
    "RES NUM, AA CODE, THETA, TAU, OMEGA\n",
    "\n",
    ".H FILE\n",
    "AA NAME, CHAIN ID, RES NUM, AA CODE, HSE TOTAL, HSE UP, HSE DOWN\n",
    "\"\"\"\n",
    "# ['AA NAME', 'CHAIN ID', 'RES NUM', 'AA CODE', 'SS3', 'ASA', 'HSE TOTAL', 'HSE UP', 'HSE DOWN', 'PHI', 'PSI', 'THETA', 'TAU', 'OMEGA']"
   ]
  }
 ],
 "metadata": {
  "kernelspec": {
   "display_name": "pidlproj",
   "language": "python",
   "name": "python3"
  },
  "language_info": {
   "codemirror_mode": {
    "name": "ipython",
    "version": 3
   },
   "file_extension": ".py",
   "mimetype": "text/x-python",
   "name": "python",
   "nbconvert_exporter": "python",
   "pygments_lexer": "ipython3",
   "version": "3.8.18"
  },
  "orig_nbformat": 4,
  "vscode": {
   "interpreter": {
    "hash": "ba1e8113178b398b35b1392d0c84b982262947828fe3a59ba09fefe843166e88"
   }
  }
 },
 "nbformat": 4,
 "nbformat_minor": 2
}
