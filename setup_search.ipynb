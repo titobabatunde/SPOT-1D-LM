{
 "cells": [
  {
   "cell_type": "code",
   "execution_count": 1,
   "metadata": {},
   "outputs": [],
   "source": [
    "import numpy as np\n",
    "protarr = np.load(\"inputs/\"+\"5LOS_A_pt.npy\")"
   ]
  },
  {
   "cell_type": "code",
   "execution_count": 2,
   "metadata": {},
   "outputs": [
    {
     "name": "stdout",
     "output_type": "stream",
     "text": [
      "(118, 1024)\n"
     ]
    }
   ],
   "source": [
    "print(protarr.shape) # [L,1024] -> [118, 1024]"
   ]
  },
  {
   "cell_type": "code",
   "execution_count": 3,
   "metadata": {},
   "outputs": [],
   "source": [
    "# Importing necessary libraries\n",
    "import time\n",
    "import re\n",
    "import torch\n",
    "import argparse\n",
    "import numpy as np\n",
    "from tqdm import tqdm\n",
    "# from transformers import AutoModel, AutoTokenizer  # Changed for ProtBert\n",
    "from transformers import BertModel, BertTokenizer\n",
    "# from transformers import BertForMaskedLM, BertTokenizer, pipeline\n",
    "from dataset.data_functions import read_list, read_fasta_file"
   ]
  },
  {
   "cell_type": "code",
   "execution_count": 4,
   "metadata": {},
   "outputs": [],
   "source": [
    "file_list = \"file_lists/file_list_all.txt\"\n",
    "device = 'cuda:0'\n",
    "model_name = \"Rostlab/prot_bert\"\n",
    "# model_name = \"Rostlab/prot_bert_bfd\"\n",
    "tokenizer = BertTokenizer.from_pretrained(model_name, do_lower_case=False)\n",
    "model = BertModel.from_pretrained(model_name)\n",
    "# model = BertForMaskedLM.from_pretrained(model_name)"
   ]
  },
  {
   "cell_type": "code",
   "execution_count": 5,
   "metadata": {},
   "outputs": [
    {
     "name": "stdout",
     "output_type": "stream",
     "text": [
      "/mnt/nvme/home/bbabatun/IDL/PROJECT/SPOT-1D-LM/spot_1d_lm/fasta/T0859-D1.fasta\n"
     ]
    }
   ],
   "source": [
    "dev='cuda:0'\n",
    "device = torch.device(dev)\n",
    "model = model.to(dev)\n",
    "model = model.eval()\n",
    "prot_list = read_list(file_list)\n",
    "print(prot_list[0])"
   ]
  },
  {
   "cell_type": "code",
   "execution_count": 6,
   "metadata": {},
   "outputs": [],
   "source": [
    "prot_path = prot_list[0]\n",
    "# Read the protein sequence from the file\n",
    "seq = read_fasta_file(prot_path)\n",
    "# print(seq)\n",
    "# Extracting the protein name from the file path\n",
    "prot_name = prot_path.split('/')[-1].split('.')[0]\n",
    "# print(prot_name)\n",
    "\n",
    "# Insert spaces between each character in the sequence\n",
    "seq_temp = seq.replace('', \" \")\n",
    "# print(seq_temp)\n",
    "# Create a list of sequences (in this case, only one)\n",
    "sequences_Example = [seq_temp]\n",
    "# print(sequences_Example)\n",
    "# Replace certain characters with 'X' for normalization\n",
    "sequences_Example = [re.sub(r\"[UZOB]\", \"X\", sequence) for sequence in sequences_Example]\n",
    "# print(sequences_Example)\n",
    "# Tokenize the sequences\n",
    "ids = tokenizer.batch_encode_plus(sequences_Example, add_special_tokens=True, padding=True)\n",
    "# ids = tokenizer.batch_encode_plus(sequences_Example, add_special_tokens=True, padding=\"longest\")\n",
    "\n",
    "# Convert the tokenized sequences to PyTorch tensors and move to the specified device\n",
    "input_ids = torch.tensor(ids['input_ids']).to(device)\n",
    "attention_mask = torch.tensor(ids['attention_mask']).to(device)"
   ]
  },
  {
   "cell_type": "code",
   "execution_count": 7,
   "metadata": {},
   "outputs": [
    {
     "name": "stdout",
     "output_type": "stream",
     "text": [
      "Input IDs shape: torch.Size([1, 135])\n",
      "Attention Mask shape: torch.Size([1, 135])\n",
      "Input IDs type: torch.int64\n",
      "Attention Mask type: torch.int64\n"
     ]
    }
   ],
   "source": [
    "print(\"Input IDs shape:\", input_ids.shape)\n",
    "print(\"Attention Mask shape:\", attention_mask.shape)\n",
    "print(\"Input IDs type:\", input_ids.dtype)\n",
    "print(\"Attention Mask type:\", attention_mask.dtype)"
   ]
  },
  {
   "cell_type": "code",
   "execution_count": 8,
   "metadata": {},
   "outputs": [],
   "source": [
    "\n",
    "# Generate embeddings with no gradient calculations (for efficiency)\n",
    "with torch.no_grad():\n",
    "    embedding = model(input_ids=input_ids, attention_mask=attention_mask)\n",
    "\n",
    "# Move embeddings to CPU if using GPU and convert to numpy array\n",
    "if dev == \"cpu\":\n",
    "    embedding = embedding.last_hidden_state.numpy()\n",
    "else:\n",
    "    embedding = embedding.last_hidden_state.cpu().numpy()\n",
    "\n",
    "# Extract and process embeddings for each sequence\n",
    "features = []\n",
    "for seq_num in range(len(embedding)):\n",
    "    # Calculate the actual sequence length (excluding padding)\n",
    "    seq_len = (attention_mask[seq_num] == 1).sum()\n",
    "    # Extract the embeddings for the actual sequence length\n",
    "    seq_emd = embedding[seq_num][:seq_len - 1]\n",
    "    features.append(seq_emd)"
   ]
  },
  {
   "cell_type": "code",
   "execution_count": 9,
   "metadata": {},
   "outputs": [
    {
     "data": {
      "text/plain": [
       "(134, 1024)"
      ]
     },
     "execution_count": 9,
     "metadata": {},
     "output_type": "execute_result"
    }
   ],
   "source": [
    "features[0].shape"
   ]
  }
 ],
 "metadata": {
  "kernelspec": {
   "display_name": "pidlproj",
   "language": "python",
   "name": "python3"
  },
  "language_info": {
   "codemirror_mode": {
    "name": "ipython",
    "version": 3
   },
   "file_extension": ".py",
   "mimetype": "text/x-python",
   "name": "python",
   "nbconvert_exporter": "python",
   "pygments_lexer": "ipython3",
   "version": "3.8.18"
  },
  "orig_nbformat": 4,
  "vscode": {
   "interpreter": {
    "hash": "ba1e8113178b398b35b1392d0c84b982262947828fe3a59ba09fefe843166e88"
   }
  }
 },
 "nbformat": 4,
 "nbformat_minor": 2
}
