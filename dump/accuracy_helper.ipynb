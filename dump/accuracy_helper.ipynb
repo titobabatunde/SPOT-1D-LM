{
 "cells": [
  {
   "cell_type": "code",
   "execution_count": 3,
   "metadata": {},
   "outputs": [],
   "source": [
    "import pandas as pd\n",
    "from Bio.PDB import DSSP\n",
    "from Bio.PDB import PDBParser\n",
    "import os"
   ]
  },
  {
   "cell_type": "code",
   "execution_count": 22,
   "metadata": {},
   "outputs": [
    {
     "name": "stdout",
     "output_type": "stream",
     "text": [
      "\n",
      "   Unnamed: 0 AA SS3 SS8        ASA      HseU       HseD         CN  \\\n",
      "0           0  M   C   C  183.68028  0.488851   9.531813   9.388835   \n",
      "1           1  G   C   C   60.81921  0.606499   8.038331   8.841736   \n",
      "2           2  T   C   H  104.84749  0.871131   8.638760   9.306230   \n",
      "3           3  I   H   H  117.19269  1.013536   9.019650  10.309437   \n",
      "4           4  S   H   H   78.75086  0.664681  10.682326  11.047195   \n",
      "\n",
      "         Psi        Phi  ...       P3E       P3H       P8C       P8S  \\\n",
      "0 -34.071484 -74.033650  ... -5.437549 -2.264377  7.028661 -3.054380   \n",
      "1 -33.931236 -69.983635  ... -4.232018  0.646431  2.955936 -3.012522   \n",
      "2 -37.946790 -70.802930  ... -3.896226  0.874402  1.621498  0.223509   \n",
      "3 -39.571014 -64.938390  ... -3.687402  1.375960  1.339960 -0.138285   \n",
      "4 -38.492054 -63.991630  ... -4.304135  1.806881  1.041241 -0.310876   \n",
      "\n",
      "        P8T       P8H       P8G        P8I       P8E       P8B  \n",
      "0 -1.047171 -0.331275 -3.432138 -18.522327 -3.365521 -5.122536  \n",
      "1  0.812295  2.059974 -1.399676  -8.886981 -3.183867 -3.717773  \n",
      "2  0.290393  1.726930 -1.464280  -6.929759 -3.486923 -3.855989  \n",
      "3 -0.096824  2.410786 -1.525298  -6.468376 -3.049575 -3.773904  \n",
      "4  0.180583  2.914376 -1.436256  -6.409720 -3.545232 -4.464643  \n",
      "\n",
      "[5 rows x 23 columns]\n",
      "5G6UA\n",
      "{}\n"
     ]
    },
    {
     "name": "stderr",
     "output_type": "stream",
     "text": [
      "/mnt/nvme/home/bbabatun/.local/lib/python3.8/site-packages/Bio/PDB/PDBParser.py:395: PDBConstructionWarning: Ignoring unrecognized record 'X X X ' at line 6\n",
      "  warnings.warn(\n"
     ]
    },
    {
     "ename": "ZeroDivisionError",
     "evalue": "division by zero",
     "output_type": "error",
     "traceback": [
      "\u001b[0;31m---------------------------------------------------------------------------\u001b[0m",
      "\u001b[0;31mZeroDivisionError\u001b[0m                         Traceback (most recent call last)",
      "Cell \u001b[0;32mIn[22], line 45\u001b[0m\n\u001b[1;32m     43\u001b[0m \u001b[39m# truth = \"/mnt/nvme/home/bbabatun/IDL/PROJECT/SPOT-1D-LM/spot_1d_lm/fasta/5G6UA.fasta\"\u001b[39;00m\n\u001b[1;32m     44\u001b[0m \u001b[39mprint\u001b[39m()\n\u001b[0;32m---> 45\u001b[0m compare_structures(pred,truth)\n",
      "Cell \u001b[0;32mIn[22], line 36\u001b[0m, in \u001b[0;36mcompare_structures\u001b[0;34m(csv_file, dssp_file)\u001b[0m\n\u001b[1;32m     33\u001b[0m         \u001b[39mif\u001b[39;00m predicted_ss3 \u001b[39m==\u001b[39m actual_ss3_res:\n\u001b[1;32m     34\u001b[0m             correct_predictions \u001b[39m+\u001b[39m\u001b[39m=\u001b[39m \u001b[39m1\u001b[39m\n\u001b[0;32m---> 36\u001b[0m accuracy \u001b[39m=\u001b[39m correct_predictions \u001b[39m/\u001b[39;49m \u001b[39mlen\u001b[39;49m(actual_ss3)\n\u001b[1;32m     37\u001b[0m \u001b[39mprint\u001b[39m(\u001b[39mf\u001b[39m\u001b[39m\"\u001b[39m\u001b[39mAccuracy of secondary structure prediction: \u001b[39m\u001b[39m{\u001b[39;00maccuracy\u001b[39m:\u001b[39;00m\u001b[39m.2f\u001b[39m\u001b[39m}\u001b[39;00m\u001b[39m\"\u001b[39m)\n",
      "\u001b[0;31mZeroDivisionError\u001b[0m: division by zero"
     ]
    }
   ],
   "source": [
    "def parse_dssp_file(dssp_file):\n",
    "    \"\"\" Parse DSSP file to extract secondary structures and map them to 3-class system \"\"\"\n",
    "    parser = PDBParser()\n",
    "    filename = os.path.basename(dssp_file)\n",
    "    prot_name, _ = os.path.splitext(filename)\n",
    "    print(prot_name)\n",
    "    structure = parser.get_structure(prot_name, dssp_file)\n",
    "    model = structure.get_models() # Updated line  # structure[0]\n",
    "    dssp = DSSP(model, dssp_file)\n",
    "    dssp_dict = dict(dssp)\n",
    "    print(dssp_dict)\n",
    "\n",
    "    # Map DSSP to 3-class system (H, E, C)\n",
    "    dssp_to_ss3 = {'H': 'H', 'B': 'E', 'E': 'E', 'G': 'H', 'I': 'H', 'T': 'C', 'S': 'C', ' ': 'C'}\n",
    "    ss3_list = [dssp_to_ss3[dssp_dict[res][2]] for res in dssp_dict.keys()]\n",
    "    return ss3_list\n",
    "\n",
    "def compare_structures(csv_file, dssp_file):\n",
    "    \"\"\" Compare predicted structure from CSV with actual structure from DSSP file \"\"\"\n",
    "    # Parse CSV file\n",
    "    predicted_data = pd.read_csv(csv_file)\n",
    "    print(predicted_data.head())\n",
    "    \n",
    "    # Parse DSSP file\n",
    "    actual_ss3 = parse_dssp_file(dssp_file)\n",
    "\n",
    "    # Compare secondary structures\n",
    "    correct_predictions = 0\n",
    "    for i, row in predicted_data.iterrows():\n",
    "        if i < len(actual_ss3):\n",
    "            predicted_ss3 = row['SS3']\n",
    "            actual_ss3_res = actual_ss3[i]\n",
    "            if predicted_ss3 == actual_ss3_res:\n",
    "                correct_predictions += 1\n",
    "    \n",
    "    accuracy = correct_predictions / len(actual_ss3)\n",
    "    print(f\"Accuracy of secondary structure prediction: {accuracy:.2f}\")\n",
    "\n",
    "# Example usage\n",
    "# compare_structures(\"predicted_structure.csv\", \"actual_structure.dssp\")\n",
    "pred = \"/mnt/nvme/home/bbabatun/IDL/PROJECT/SPOT-1D-LM/results/5G6UA.csv\"\n",
    "truth = \"/mnt/nvme/home/bbabatun/IDL/PROJECT/SPOT-1D-LM/spot_1d_lm/dssp/5G6UA.dssp\"\n",
    "# truth = \"/mnt/nvme/home/bbabatun/IDL/PROJECT/SPOT-1D-LM/spot_1d_lm/fasta/5G6UA.fasta\"\n",
    "print()\n",
    "compare_structures(pred,truth)\n"
   ]
  },
  {
   "cell_type": "code",
   "execution_count": 23,
   "metadata": {},
   "outputs": [],
   "source": [
    "def parse_dssp_file(dssp_file):\n",
    "    \"\"\" Parse DSSP file to extract secondary structures and map them to 3-class system \"\"\"\n",
    "    parser = PDBParser()\n",
    "    filename = os.path.basename(dssp_file)\n",
    "    prot_name, _ = os.path.splitext(filename)\n",
    "    print(prot_name)\n",
    "    structure = parser.get_structure(prot_name, dssp_file)\n",
    "    model = structure.get_models() # Updated line  # structure[0]\n",
    "    dssp = DSSP(model, dssp_file)\n",
    "    dssp_dict = dict(dssp)\n",
    "    print(dssp_dict)\n",
    "\n",
    "    # Map DSSP to 3-class system (H, E, C)\n",
    "    dssp_to_ss3 = {'H': 'H', 'B': 'E', 'E': 'E', 'G': 'H', 'I': 'H', 'T': 'C', 'S': 'C', ' ': 'C'}\n",
    "    ss3_list = [dssp_to_ss3[dssp_dict[res][2]] for res in dssp_dict.keys()]\n",
    "    return ss3_list\n",
    "\n",
    "def compare_structures(csv_file, dssp_file):\n",
    "    \"\"\" Compare predicted structure from CSV with actual structure from DSSP file \"\"\"\n",
    "    # Parse CSV file\n",
    "    predicted_data = pd.read_csv(csv_file)\n",
    "    print(predicted_data.head())\n",
    "    \n",
    "    # Parse DSSP file\n",
    "    actual_ss3 = parse_dssp_file(dssp_file)\n",
    "\n",
    "    # Compare secondary structures\n",
    "    correct_predictions = 0\n",
    "    for i, row in predicted_data.iterrows():\n",
    "        if i < len(actual_ss3):\n",
    "            predicted_ss3 = row['SS3']\n",
    "            actual_ss3_res = actual_ss3[i]\n",
    "            if predicted_ss3 == actual_ss3_res:\n",
    "                correct_predictions += 1\n",
    "    \n",
    "    accuracy = correct_predictions / len(actual_ss3)\n",
    "    print(f\"Accuracy of secondary structure prediction: {accuracy:.2f}\")\n",
    "\n",
    "# Example usage\n",
    "# compare_structures(\"predicted_structure.csv\", \"actual_structure.dssp\")\n",
    "pred = \"/mnt/nvme/home/bbabatun/IDL/PROJECT/SPOT-1D-LM/results/5G6UA.csv\"\n",
    "truth = \"/mnt/nvme/home/bbabatun/IDL/PROJECT/SPOT-1D-LM/spot_1d_lm/dssp/5G6UA.dssp\"\n",
    "# truth = \"/mnt/nvme/home/bbabatun/IDL/PROJECT/SPOT-1D-LM/spot_1d_lm/fasta/5G6UA.fasta\"\n"
   ]
  },
  {
   "cell_type": "code",
   "execution_count": 1,
   "metadata": {},
   "outputs": [],
   "source": [
    "from DSSPparser import parseDSSP"
   ]
  },
  {
   "cell_type": "code",
   "execution_count": 2,
   "metadata": {},
   "outputs": [],
   "source": [
    "pred = \"/mnt/nvme/home/bbabatun/IDL/PROJECT/SPOT-1D-LM/results/5G6UA.csv\"\n",
    "truth = \"/mnt/nvme/home/bbabatun/IDL/PROJECT/SPOT-1D-LM/spot_1d_lm/dssp/5G6UA.dssp\"\n",
    "parser = parseDSSP(truth)\n",
    "parser.parse()\n",
    "ppdict = parser.dictTodataframe()"
   ]
  },
  {
   "cell_type": "code",
   "execution_count": 3,
   "metadata": {},
   "outputs": [
    {
     "name": "stdout",
     "output_type": "stream",
     "text": [
      "Empty DataFrame\n",
      "Columns: [resnum, inscode, chain, aa, struct, structdetails, bp1, bp2, acc, h_nho1, h_ohn1, h_nho2, h_ohn2, tco, kappa, alpha, phi, psi, xca, yca, zca, rcsb_given_chain, author_given_chain]\n",
      "Index: []\n",
      "\n",
      "[0 rows x 23 columns]\n"
     ]
    }
   ],
   "source": [
    "print(ppdict)"
   ]
  },
  {
   "cell_type": "code",
   "execution_count": 4,
   "metadata": {},
   "outputs": [
    {
     "name": "stdout",
     "output_type": "stream",
     "text": [
      "Downloading PDB structure '5g6u'...\n"
     ]
    },
    {
     "name": "stderr",
     "output_type": "stream",
     "text": [
      "mkdssp: error while loading shared libraries: libboost_thread.so.1.73.0: cannot open shared object file: No such file or directory\n"
     ]
    }
   ],
   "source": [
    "from DSSPparser import pdbToxssp_local\n",
    "result = pdbToxssp_local(\"5G6U\")"
   ]
  },
  {
   "cell_type": "code",
   "execution_count": 5,
   "metadata": {},
   "outputs": [
    {
     "name": "stdout",
     "output_type": "stream",
     "text": [
      "Job submitted successfully. Id is: '6143b622-55af-4f86-950b-094296a5754d'\n",
      "Job status is: 'SUCCESS'\n"
     ]
    }
   ],
   "source": [
    "from DSSPparser import pdbToxssp\n",
    "result = pdbToxssp(\"5G6U\")"
   ]
  },
  {
   "cell_type": "code",
   "execution_count": 1,
   "metadata": {},
   "outputs": [],
   "source": [
    "import pandas as pd\n",
    "from Bio.PDB import DSSP\n",
    "from Bio.PDB import PDBParser"
   ]
  },
  {
   "cell_type": "code",
   "execution_count": 2,
   "metadata": {},
   "outputs": [
    {
     "name": "stderr",
     "output_type": "stream",
     "text": [
      "/mnt/nvme/home/bbabatun/.local/lib/python3.8/site-packages/Bio/PDB/StructureBuilder.py:89: PDBConstructionWarning: WARNING: Chain A is discontinuous at line 14061.\n",
      "  warnings.warn(\n",
      "/mnt/nvme/home/bbabatun/.local/lib/python3.8/site-packages/Bio/PDB/StructureBuilder.py:89: PDBConstructionWarning: WARNING: Chain B is discontinuous at line 14112.\n",
      "  warnings.warn(\n",
      "/mnt/nvme/home/bbabatun/.local/lib/python3.8/site-packages/Bio/PDB/StructureBuilder.py:89: PDBConstructionWarning: WARNING: Chain C is discontinuous at line 14167.\n",
      "  warnings.warn(\n",
      "/mnt/nvme/home/bbabatun/.local/lib/python3.8/site-packages/Bio/PDB/StructureBuilder.py:89: PDBConstructionWarning: WARNING: Chain D is discontinuous at line 14193.\n",
      "  warnings.warn(\n",
      "/mnt/nvme/home/bbabatun/.local/lib/python3.8/site-packages/Bio/PDB/StructureBuilder.py:89: PDBConstructionWarning: WARNING: Chain A is discontinuous at line 14244.\n",
      "  warnings.warn(\n",
      "/mnt/nvme/home/bbabatun/.local/lib/python3.8/site-packages/Bio/PDB/StructureBuilder.py:89: PDBConstructionWarning: WARNING: Chain B is discontinuous at line 14399.\n",
      "  warnings.warn(\n",
      "/mnt/nvme/home/bbabatun/.local/lib/python3.8/site-packages/Bio/PDB/StructureBuilder.py:89: PDBConstructionWarning: WARNING: Chain C is discontinuous at line 14537.\n",
      "  warnings.warn(\n",
      "/mnt/nvme/home/bbabatun/.local/lib/python3.8/site-packages/Bio/PDB/StructureBuilder.py:89: PDBConstructionWarning: WARNING: Chain D is discontinuous at line 14663.\n",
      "  warnings.warn(\n"
     ]
    }
   ],
   "source": [
    "parser = PDBParser()\n",
    "structure = parser.get_structure(\"5G6U\", \"pdb5g6u.pdb\")\n",
    "model = structure[0]"
   ]
  },
  {
   "cell_type": "code",
   "execution_count": 3,
   "metadata": {},
   "outputs": [
    {
     "ename": "PermissionError",
     "evalue": "[Errno 13] Permission denied: '/mnt/nvme/home/bbabatun/IDL/PROJECT/SPOT-1D-LM/dssp-4.4.0'",
     "output_type": "error",
     "traceback": [
      "\u001b[0;31m---------------------------------------------------------------------------\u001b[0m",
      "\u001b[0;31mPermissionError\u001b[0m                           Traceback (most recent call last)",
      "Cell \u001b[0;32mIn[3], line 3\u001b[0m\n\u001b[1;32m      1\u001b[0m truth \u001b[39m=\u001b[39m \u001b[39m\"\u001b[39m\u001b[39m/mnt/nvme/home/bbabatun/IDL/PROJECT/SPOT-1D-LM/spot_1d_lm/dssp/5G6UA.dssp\u001b[39m\u001b[39m\"\u001b[39m\n\u001b[1;32m      2\u001b[0m dsp \u001b[39m=\u001b[39m \u001b[39m\"\u001b[39m\u001b[39m/mnt/nvme/home/bbabatun/IDL/PROJECT/SPOT-1D-LM/dssp-4.4.0\u001b[39m\u001b[39m\"\u001b[39m\n\u001b[0;32m----> 3\u001b[0m dssp \u001b[39m=\u001b[39m DSSP(model, \u001b[39m\"\u001b[39;49m\u001b[39mpdb5g6u.pdb\u001b[39;49m\u001b[39m\"\u001b[39;49m, dssp\u001b[39m=\u001b[39;49mdsp)\n",
      "File \u001b[0;32m~/.local/lib/python3.8/site-packages/Bio/PDB/DSSP.py:385\u001b[0m, in \u001b[0;36mDSSP.__init__\u001b[0;34m(self, model, in_file, dssp, acc_array, file_type)\u001b[0m\n\u001b[1;32m    380\u001b[0m \u001b[39mif\u001b[39;00m file_type \u001b[39m==\u001b[39m \u001b[39m\"\u001b[39m\u001b[39mPDB\u001b[39m\u001b[39m\"\u001b[39m \u001b[39mor\u001b[39;00m file_type \u001b[39m==\u001b[39m \u001b[39m\"\u001b[39m\u001b[39mMMCIF\u001b[39m\u001b[39m\"\u001b[39m:\n\u001b[1;32m    381\u001b[0m     \u001b[39m# Newer versions of DSSP program call the binary 'mkdssp', so\u001b[39;00m\n\u001b[1;32m    382\u001b[0m     \u001b[39m# calling 'dssp' will not work in some operating systems\u001b[39;00m\n\u001b[1;32m    383\u001b[0m     \u001b[39m# (Debian distribution of DSSP includes a symlink for 'dssp' argument)\u001b[39;00m\n\u001b[1;32m    384\u001b[0m     \u001b[39mtry\u001b[39;00m:\n\u001b[0;32m--> 385\u001b[0m         version_string \u001b[39m=\u001b[39m subprocess\u001b[39m.\u001b[39;49mcheck_output(\n\u001b[1;32m    386\u001b[0m             [dssp, \u001b[39m\"\u001b[39;49m\u001b[39m--version\u001b[39;49m\u001b[39m\"\u001b[39;49m], universal_newlines\u001b[39m=\u001b[39;49m\u001b[39mTrue\u001b[39;49;00m\n\u001b[1;32m    387\u001b[0m         )\n\u001b[1;32m    388\u001b[0m         dssp_version \u001b[39m=\u001b[39m re\u001b[39m.\u001b[39msearch(\u001b[39mr\u001b[39m\u001b[39m\"\u001b[39m\u001b[39m\\\u001b[39m\u001b[39ms*([\u001b[39m\u001b[39m\\\u001b[39m\u001b[39md.]+)\u001b[39m\u001b[39m\"\u001b[39m, version_string)\u001b[39m.\u001b[39mgroup(\u001b[39m1\u001b[39m)\n\u001b[1;32m    389\u001b[0m         dssp_dict, dssp_keys \u001b[39m=\u001b[39m dssp_dict_from_pdb_file(\n\u001b[1;32m    390\u001b[0m             in_file, dssp, dssp_version\n\u001b[1;32m    391\u001b[0m         )\n",
      "File \u001b[0;32m~/miniconda3/envs/pidlproj/lib/python3.8/subprocess.py:415\u001b[0m, in \u001b[0;36mcheck_output\u001b[0;34m(timeout, *popenargs, **kwargs)\u001b[0m\n\u001b[1;32m    412\u001b[0m         empty \u001b[39m=\u001b[39m \u001b[39mb\u001b[39m\u001b[39m'\u001b[39m\u001b[39m'\u001b[39m\n\u001b[1;32m    413\u001b[0m     kwargs[\u001b[39m'\u001b[39m\u001b[39minput\u001b[39m\u001b[39m'\u001b[39m] \u001b[39m=\u001b[39m empty\n\u001b[0;32m--> 415\u001b[0m \u001b[39mreturn\u001b[39;00m run(\u001b[39m*\u001b[39;49mpopenargs, stdout\u001b[39m=\u001b[39;49mPIPE, timeout\u001b[39m=\u001b[39;49mtimeout, check\u001b[39m=\u001b[39;49m\u001b[39mTrue\u001b[39;49;00m,\n\u001b[1;32m    416\u001b[0m            \u001b[39m*\u001b[39;49m\u001b[39m*\u001b[39;49mkwargs)\u001b[39m.\u001b[39mstdout\n",
      "File \u001b[0;32m~/miniconda3/envs/pidlproj/lib/python3.8/subprocess.py:493\u001b[0m, in \u001b[0;36mrun\u001b[0;34m(input, capture_output, timeout, check, *popenargs, **kwargs)\u001b[0m\n\u001b[1;32m    490\u001b[0m     kwargs[\u001b[39m'\u001b[39m\u001b[39mstdout\u001b[39m\u001b[39m'\u001b[39m] \u001b[39m=\u001b[39m PIPE\n\u001b[1;32m    491\u001b[0m     kwargs[\u001b[39m'\u001b[39m\u001b[39mstderr\u001b[39m\u001b[39m'\u001b[39m] \u001b[39m=\u001b[39m PIPE\n\u001b[0;32m--> 493\u001b[0m \u001b[39mwith\u001b[39;00m Popen(\u001b[39m*\u001b[39;49mpopenargs, \u001b[39m*\u001b[39;49m\u001b[39m*\u001b[39;49mkwargs) \u001b[39mas\u001b[39;00m process:\n\u001b[1;32m    494\u001b[0m     \u001b[39mtry\u001b[39;00m:\n\u001b[1;32m    495\u001b[0m         stdout, stderr \u001b[39m=\u001b[39m process\u001b[39m.\u001b[39mcommunicate(\u001b[39minput\u001b[39m, timeout\u001b[39m=\u001b[39mtimeout)\n",
      "File \u001b[0;32m~/miniconda3/envs/pidlproj/lib/python3.8/subprocess.py:858\u001b[0m, in \u001b[0;36mPopen.__init__\u001b[0;34m(self, args, bufsize, executable, stdin, stdout, stderr, preexec_fn, close_fds, shell, cwd, env, universal_newlines, startupinfo, creationflags, restore_signals, start_new_session, pass_fds, encoding, errors, text)\u001b[0m\n\u001b[1;32m    854\u001b[0m         \u001b[39mif\u001b[39;00m \u001b[39mself\u001b[39m\u001b[39m.\u001b[39mtext_mode:\n\u001b[1;32m    855\u001b[0m             \u001b[39mself\u001b[39m\u001b[39m.\u001b[39mstderr \u001b[39m=\u001b[39m io\u001b[39m.\u001b[39mTextIOWrapper(\u001b[39mself\u001b[39m\u001b[39m.\u001b[39mstderr,\n\u001b[1;32m    856\u001b[0m                     encoding\u001b[39m=\u001b[39mencoding, errors\u001b[39m=\u001b[39merrors)\n\u001b[0;32m--> 858\u001b[0m     \u001b[39mself\u001b[39;49m\u001b[39m.\u001b[39;49m_execute_child(args, executable, preexec_fn, close_fds,\n\u001b[1;32m    859\u001b[0m                         pass_fds, cwd, env,\n\u001b[1;32m    860\u001b[0m                         startupinfo, creationflags, shell,\n\u001b[1;32m    861\u001b[0m                         p2cread, p2cwrite,\n\u001b[1;32m    862\u001b[0m                         c2pread, c2pwrite,\n\u001b[1;32m    863\u001b[0m                         errread, errwrite,\n\u001b[1;32m    864\u001b[0m                         restore_signals, start_new_session)\n\u001b[1;32m    865\u001b[0m \u001b[39mexcept\u001b[39;00m:\n\u001b[1;32m    866\u001b[0m     \u001b[39m# Cleanup if the child failed starting.\u001b[39;00m\n\u001b[1;32m    867\u001b[0m     \u001b[39mfor\u001b[39;00m f \u001b[39min\u001b[39;00m \u001b[39mfilter\u001b[39m(\u001b[39mNone\u001b[39;00m, (\u001b[39mself\u001b[39m\u001b[39m.\u001b[39mstdin, \u001b[39mself\u001b[39m\u001b[39m.\u001b[39mstdout, \u001b[39mself\u001b[39m\u001b[39m.\u001b[39mstderr)):\n",
      "File \u001b[0;32m~/miniconda3/envs/pidlproj/lib/python3.8/subprocess.py:1720\u001b[0m, in \u001b[0;36mPopen._execute_child\u001b[0;34m(self, args, executable, preexec_fn, close_fds, pass_fds, cwd, env, startupinfo, creationflags, shell, p2cread, p2cwrite, c2pread, c2pwrite, errread, errwrite, restore_signals, start_new_session)\u001b[0m\n\u001b[1;32m   1718\u001b[0m     \u001b[39mif\u001b[39;00m errno_num \u001b[39m!=\u001b[39m \u001b[39m0\u001b[39m:\n\u001b[1;32m   1719\u001b[0m         err_msg \u001b[39m=\u001b[39m os\u001b[39m.\u001b[39mstrerror(errno_num)\n\u001b[0;32m-> 1720\u001b[0m     \u001b[39mraise\u001b[39;00m child_exception_type(errno_num, err_msg, err_filename)\n\u001b[1;32m   1721\u001b[0m \u001b[39mraise\u001b[39;00m child_exception_type(err_msg)\n",
      "\u001b[0;31mPermissionError\u001b[0m: [Errno 13] Permission denied: '/mnt/nvme/home/bbabatun/IDL/PROJECT/SPOT-1D-LM/dssp-4.4.0'"
     ]
    }
   ],
   "source": [
    "truth = \"/mnt/nvme/home/bbabatun/IDL/PROJECT/SPOT-1D-LM/spot_1d_lm/dssp/5G6UA.dssp\"\n",
    "dsp = \"/mnt/nvme/home/bbabatun/IDL/PROJECT/SPOT-1D-LM/dssp-4.4.0\"\n",
    "dssp = DSSP(model, \"pdb5g6u.pdb\", dssp=dsp)"
   ]
  },
  {
   "cell_type": "code",
   "execution_count": null,
   "metadata": {},
   "outputs": [
    {
     "name": "stdout",
     "output_type": "stream",
     "text": [
      "{}\n"
     ]
    }
   ],
   "source": [
    "print(dict(dssp))"
   ]
  },
  {
   "cell_type": "code",
   "execution_count": null,
   "metadata": {},
   "outputs": [
    {
     "name": "stdout",
     "output_type": "stream",
     "text": [
      "<Bio.PDB.DSSP.DSSP object at 0x7f7781cf8520>\n",
      "{}\n"
     ]
    }
   ],
   "source": [
    "\n",
    "model = structure[0]\n",
    "dssp = DSSP(model, truth)\n",
    "print(dssp)\n",
    "dssp_dict = dict(dssp)\n",
    "print(dssp_dict)"
   ]
  },
  {
   "cell_type": "code",
   "execution_count": null,
   "metadata": {},
   "outputs": [],
   "source": [
    "from DSSPparser import parseDSSP\n",
    "parser = parseDSSP(truth)"
   ]
  },
  {
   "cell_type": "code",
   "execution_count": null,
   "metadata": {},
   "outputs": [],
   "source": [
    "parser.parse()"
   ]
  },
  {
   "cell_type": "code",
   "execution_count": null,
   "metadata": {},
   "outputs": [
    {
     "data": {
      "text/plain": [
       "[]"
      ]
     },
     "execution_count": 18,
     "metadata": {},
     "output_type": "execute_result"
    }
   ],
   "source": [
    "parser.getAAs"
   ]
  }
 ],
 "metadata": {
  "kernelspec": {
   "display_name": "idlf23",
   "language": "python",
   "name": "python3"
  },
  "language_info": {
   "codemirror_mode": {
    "name": "ipython",
    "version": 3
   },
   "file_extension": ".py",
   "mimetype": "text/x-python",
   "name": "python",
   "nbconvert_exporter": "python",
   "pygments_lexer": "ipython3",
   "version": "3.8.10 (default, Sep 28 2021, 16:10:42) \n[GCC 9.3.0]"
  },
  "orig_nbformat": 4,
  "vscode": {
   "interpreter": {
    "hash": "0e96ed978892fa1328c525a5c5744ed648b1e603d99637a2d5cb2c8c84d38b89"
   }
  }
 },
 "nbformat": 4,
 "nbformat_minor": 2
}
