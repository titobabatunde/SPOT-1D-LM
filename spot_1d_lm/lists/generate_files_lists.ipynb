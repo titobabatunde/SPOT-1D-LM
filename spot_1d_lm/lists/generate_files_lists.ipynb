{
 "cells": [
  {
   "cell_type": "code",
   "execution_count": 1,
   "metadata": {},
   "outputs": [],
   "source": [
    "def generate_fasta_list(input_file, output_file, output_path, base_path):\n",
    "    \"\"\"\n",
    "    Generates a file listing the paths to fasta files.\n",
    "\n",
    "    :param input_file: Path to the input file containing protein names.\n",
    "    :param output_file: Path to the output file to be created.\n",
    "    :param base_path: The base path where the fasta files are located.\n",
    "    \"\"\"\n",
    "    with open(input_file, 'r') as infile, open(output_path+output_file, 'w') as outfile:\n",
    "        for line in infile:\n",
    "            protein_name = line.strip()\n",
    "            fasta_path = f\"{base_path}/{protein_name}.fasta\\n\"\n",
    "            outfile.write(fasta_path)\n",
    "\n",
    "# Example usage\n",
    "input_filename = 'all.txt'\n",
    "output_filename = 'file_list'+input_filename\n",
    "output_path = '/mnt/nvme/home/bbabatun/IDL/PROJECT/SPOT-1D-LM/file_lists/'\n",
    "base_path = '/mnt/nvme/home/bbabatun/IDL/PROJECT/SPOT-1D-LM/spot_1d_lm/fasta'\n",
    "\n",
    "generate_fasta_list(input_filename, output_filename, output_path, base_path)\n"
   ]
  },
  {
   "cell_type": "code",
   "execution_count": 15,
   "metadata": {},
   "outputs": [],
   "source": [
    "input_filename = 'TEST2018.txt'\n",
    "output_filename = 'file_list_'+input_filename\n",
    "generate_fasta_list(input_filename, output_filename, output_path, base_path)"
   ]
  }
 ],
 "metadata": {
  "kernelspec": {
   "display_name": "idlf23",
   "language": "python",
   "name": "python3"
  },
  "language_info": {
   "codemirror_mode": {
    "name": "ipython",
    "version": 3
   },
   "file_extension": ".py",
   "mimetype": "text/x-python",
   "name": "python",
   "nbconvert_exporter": "python",
   "pygments_lexer": "ipython3",
   "version": "3.8.10 (default, Sep 28 2021, 16:10:42) \n[GCC 9.3.0]"
  },
  "orig_nbformat": 4,
  "vscode": {
   "interpreter": {
    "hash": "0e96ed978892fa1328c525a5c5744ed648b1e603d99637a2d5cb2c8c84d38b89"
   }
  }
 },
 "nbformat": 4,
 "nbformat_minor": 2
}
