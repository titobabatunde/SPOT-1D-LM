{
 "cells": [
  {
   "cell_type": "code",
   "execution_count": 1,
   "metadata": {},
   "outputs": [],
   "source": [
    "import pandas as pd\n",
    "from io import StringIO"
   ]
  },
  {
   "cell_type": "code",
   "execution_count": 3,
   "metadata": {},
   "outputs": [
    {
     "name": "stdout",
     "output_type": "stream",
     "text": [
      "['5H7KA', '5Y27B', '5ZK4D', '5ZRZB', '6F73B', '5YDNA', '6D8JA', '5YI7D', '6EHNA', '5OUPA', '6BT1A', '6F5ZD', '6F5ZB', '5ZQ3B', '6BYPA', '5OLKA', '5YT6H', '5SVHB', '5OI7A', '6FLKA', '6D34A', '5VFZA', '6BW9B', '6BZFB', '6BZFE', '5YZCA', '6GFBB', '6CW0A', '5XNWA', '6EWPC', '5YQ5A', '6BWQA', '5ZU6A', '6ELCA', '6DFPA', '5Y3TC', '6BK6A', '5W7DA', '5YVXA', '6FIHA', '5YQJA', '5ODTB', '5W41B', '5Z28A', '6F62A', '5VMOA', '5WA2A', '5O3VC', '6FI2A', '6F74B', '5N86A', '6CWXB', '6CWXA', '5X9IB', '5NF2A', '5NL6A', '6ASRB', '5VXVA', '6EWHA', '5XBNA', '6FDGA', '5VJWA', '6C4NA', '5YU5A', '5WLBE', '6ELUG', '6ES9A', '5OYMG', '6CVZB', '5Z7HE', '6EK7A', '6BXGA', '6F5XA', '6C35A', '6CSLA', '5XDHD', '6FASA', '6B7PB', '6CD9A', '6EMYB', '5YI8B', '6FQ3A', '6B3YA', '5XUMA', '6CKGA', '6FC0B', '6CF8A', '6C29C', '6DM4D', '5VJTA', '6CIBA', '6B4HB', '5WXKB', '5NMUA', '5YHUA', '6FC1B', '6CKOC', '5YQGF', '5W7BA', '5WJEA', '5UTSB', '5VR3A', '5YRZC', '6G44B', '5YRZB', '6CCDA', '5MLPA', '5MXYA', '6DT7A', '5NGWA', '6FX4A', '6EJIA', '6BLHG', '6FPKA', '6D0GA', '5Z7IB', '6EOMA', '6F9GE', '6AOKA', '6CKOA', '5THEG', '5OAKD', '6C62C', '5XRWB', '5MPHA', '5MSZA', '5XISA', '6C0BA', '5XP0A', '5Y8EA', '5LOSA', '6D2VB', '5XSWB', '5V7PA', '5YR0A', '5XM3D', '5G6UA', '6FMBA', '6GAOB', '6BL5A', '6EYXA', '6B4HA', '5NBHA', '5Y27A', '5OR7C', '5WJCB', '6FXAB', '5WK0A', '6G6SA', '5NF4A', '5UB3A', '6C90B', '6FCXB', '5N0OA', '5XBIA', '6DT7B', '6DXOA', '6FV5A', '5N5EA', '6FC3B', '5W4AB', '5W8NA', '5NGJB', '5W7PA', '6F1SA', '5OC0A', '5V3JF', '5UMRA', '6GAJA', '5YS3A', '6F2CL', '6BQCA', '6EY6C', '6CK0A', '5ZB8A', '6EHDA', '6FUEF', '5O6CA', '5XVJA', '5Z5KB', '5U5OA', '5Z6VA', '5NX1D', '6C4VA', '6ES4B', '5NM7A', '6EI1A', '5XEFA', '5YO8A', '5ZE8A', '5OF9A', '5LTLA', '5MIYA', '5W7BC', '5OBTF', '6DXOD', '5V4TB', '6AR0A', '5U81A', '5XPVB', '5YR0B', '6CC2A', '6FSFA', '5OI9A', '5N7LA', '5NXKC', '5Z9ZA', '5ZHOA', '5WECA', '5ZE3B', '6AX7A', '5VYKC', '5V0MA', '5Z8OB', '5NTBA', '5XIUA', '6B4ED', '6D3VB', '5OF1A', '5YWRB', '5VFYB', '6FC6A', '5N5PC', '6BMTB', '6D2CB', '5N5PB', '6FX3A', '5OUOA', '6D7AB', '6D6YA', '5N9MA', '6EHIL', '5UVDA', '5NL1G', '5Y86A', '5NV9A', '5ZU5A', '5YRXA', '6EY0A', '5O3UM', '5ZT3A', '6B8PE', '5OWOC', '6CL6D', '5O51A', '5VG2U', '6BSUA', '5Y3TA', '6B9MD', '5VCMB']\n"
     ]
    }
   ],
   "source": [
    "file_list_path = '/mnt/nvme/home/bbabatun/IDL/PROJECT/SPOT-1D-LM/spot_1d_lm/lists/TEST2018.txt'\n",
    "# read the name of the proteins\n",
    "with open(file_list_path, 'r') as file:\n",
    "    prot_names = [line.strip() for line in file]\n",
    "# end with\n",
    "print(prot_names)"
   ]
  },
  {
   "cell_type": "code",
   "execution_count": 25,
   "metadata": {},
   "outputs": [
    {
     "name": "stdout",
     "output_type": "stream",
     "text": [
      ">5H7KA 397\n",
      "\n"
     ]
    },
    {
     "data": {
      "text/html": [
       "<div>\n",
       "<style scoped>\n",
       "    .dataframe tbody tr th:only-of-type {\n",
       "        vertical-align: middle;\n",
       "    }\n",
       "\n",
       "    .dataframe tbody tr th {\n",
       "        vertical-align: top;\n",
       "    }\n",
       "\n",
       "    .dataframe thead th {\n",
       "        text-align: right;\n",
       "    }\n",
       "</style>\n",
       "<table border=\"1\" class=\"dataframe\">\n",
       "  <thead>\n",
       "    <tr style=\"text-align: right;\">\n",
       "      <th></th>\n",
       "      <th>AA</th>\n",
       "      <th>SS3</th>\n",
       "      <th>Phi</th>\n",
       "      <th>Psi</th>\n",
       "      <th>ASA</th>\n",
       "    </tr>\n",
       "  </thead>\n",
       "  <tbody>\n",
       "    <tr>\n",
       "      <th>0</th>\n",
       "      <td>M</td>\n",
       "      <td>X</td>\n",
       "      <td>NaN</td>\n",
       "      <td>NaN</td>\n",
       "      <td>NaN</td>\n",
       "    </tr>\n",
       "    <tr>\n",
       "      <th>1</th>\n",
       "      <td>V</td>\n",
       "      <td>X</td>\n",
       "      <td>NaN</td>\n",
       "      <td>NaN</td>\n",
       "      <td>NaN</td>\n",
       "    </tr>\n",
       "    <tr>\n",
       "      <th>2</th>\n",
       "      <td>E</td>\n",
       "      <td>X</td>\n",
       "      <td>NaN</td>\n",
       "      <td>NaN</td>\n",
       "      <td>NaN</td>\n",
       "    </tr>\n",
       "    <tr>\n",
       "      <th>3</th>\n",
       "      <td>M</td>\n",
       "      <td>X</td>\n",
       "      <td>NaN</td>\n",
       "      <td>NaN</td>\n",
       "      <td>NaN</td>\n",
       "    </tr>\n",
       "    <tr>\n",
       "      <th>4</th>\n",
       "      <td>G</td>\n",
       "      <td>X</td>\n",
       "      <td>NaN</td>\n",
       "      <td>NaN</td>\n",
       "      <td>NaN</td>\n",
       "    </tr>\n",
       "  </tbody>\n",
       "</table>\n",
       "</div>"
      ],
      "text/plain": [
       "  AA SS3  Phi  Psi  ASA\n",
       "0  M   X  NaN  NaN  NaN\n",
       "1  V   X  NaN  NaN  NaN\n",
       "2  E   X  NaN  NaN  NaN\n",
       "3  M   X  NaN  NaN  NaN\n",
       "4  G   X  NaN  NaN  NaN"
      ]
     },
     "execution_count": 25,
     "metadata": {},
     "output_type": "execute_result"
    }
   ],
   "source": [
    "dssp_file_path = '/mnt/nvme/home/bbabatun/IDL/PROJECT/SPOT-1D-LM/spot_1d_lm/dssp/'\n",
    "dssp_ext = '.dssp'\n",
    "dssp_file_name = dssp_file_path + prot_names[0] + dssp_ext\n",
    "with open(dssp_file_name, 'r') as file:\n",
    "    lines = file.readlines()\n",
    "# end with\n",
    "\n",
    "print(lines[0])\n",
    "# Extracting the relevant lines\n",
    "amino_acid_code = lines[1].strip()\n",
    "ss3 = lines[2].strip()\n",
    "phi_angles = lines[3].strip().split()\n",
    "psi_angles = lines[4].strip().split()\n",
    "asa = lines[5].strip().split()\n",
    "\n",
    "# Creating the dataframe\n",
    "actual = pd.DataFrame({\n",
    "    'AA': list(amino_acid_code),\n",
    "    'SS3': list(ss3),\n",
    "    'Phi': phi_angles,\n",
    "    'Psi': psi_angles,\n",
    "    'ASA': asa\n",
    "})\n",
    "\n",
    "actual['Phi'] = pd.to_numeric(actual['Phi'], errors='coerce')\n",
    "actual['Psi'] = pd.to_numeric(actual['Psi'], errors='coerce')\n",
    "actual['ASA'] = pd.to_numeric(actual['ASA'], errors='coerce')\n",
    "\n",
    "actual.head()  # Displaying the first few rows of the dataframe"
   ]
  },
  {
   "cell_type": "code",
   "execution_count": 26,
   "metadata": {},
   "outputs": [
    {
     "name": "stdout",
     "output_type": "stream",
     "text": [
      "   Unnamed: 0 AA SS3 SS8         ASA      HseU       HseD         CN  \\\n",
      "0           0  M   C   C  183.076810  1.256971   9.509989  10.983896   \n",
      "1           1  V   C   C  119.080480  2.984440   7.193328  11.223587   \n",
      "2           2  E   C   C  144.693560  2.275101   9.274675  12.244961   \n",
      "3           3  M   C   C  141.457640  3.348714   9.365283  13.294505   \n",
      "4           4  G   C   C   47.645294  1.322066  10.861423  13.101658   \n",
      "\n",
      "          Psi        Phi  ...       P3E       P3H       P8C       P8S  \\\n",
      "0  147.317690 -88.444084  ... -4.450704 -3.886275  7.404455 -2.154213   \n",
      "1  120.003270 -87.729550  ... -2.835512 -0.762306  3.549428 -2.893890   \n",
      "2  128.922230 -78.562190  ... -2.882734 -0.564072  2.410874  0.377502   \n",
      "3   -3.554136 -77.379310  ... -3.332581 -0.069752  2.309301  0.525925   \n",
      "4  -32.066418 -73.248955  ... -3.931350  0.247485  2.430049  0.675315   \n",
      "\n",
      "        P8T       P8H       P8G        P8I       P8E       P8B  \n",
      "0 -1.547169 -2.200228 -4.112042 -18.868204 -2.333615 -4.458727  \n",
      "1 -0.032472  0.493371 -1.400907  -9.581202 -1.778280 -2.410775  \n",
      "2 -0.247744  0.121946 -1.395849  -8.358089 -2.518337 -3.060974  \n",
      "3 -0.053078  0.702724 -1.341484  -7.941204 -2.933038 -3.403527  \n",
      "4  0.131268  1.077577 -1.516165  -8.323790 -3.495478 -4.042915  \n",
      "\n",
      "[5 rows x 23 columns]\n"
     ]
    }
   ],
   "source": [
    "results_ext = '.csv'\n",
    "results_file_path = '/mnt/nvme/home/bbabatun/IDL/PROJECT/SPOT-1D-LM/results/'\n",
    "results_file_name = results_file_path + prot_names[0] + results_ext\n",
    "\n",
    "pred = pd.read_csv(results_file_name)\n",
    "\n",
    "# Display the first few rows of the DataFrame\n",
    "print(pred.head())"
   ]
  },
  {
   "cell_type": "code",
   "execution_count": 31,
   "metadata": {},
   "outputs": [],
   "source": [
    "def calculate_q3_score(predicted, actual):\n",
    "    if len(predicted) != len(actual):\n",
    "        raise ValueError(\"actualicted and actual sequences must be of the same length\")\n",
    "\n",
    "    correct_actualictions = sum(p == a for p, a in zip(predicted, actual))\n",
    "    return round((correct_actualictions / len(actual))*100,2)"
   ]
  },
  {
   "cell_type": "code",
   "execution_count": 32,
   "metadata": {},
   "outputs": [
    {
     "data": {
      "text/plain": [
       "64.74"
      ]
     },
     "execution_count": 32,
     "metadata": {},
     "output_type": "execute_result"
    }
   ],
   "source": [
    "calculate_q3_score(pred['SS3'], actual['SS3'])"
   ]
  },
  {
   "cell_type": "code",
   "execution_count": null,
   "metadata": {},
   "outputs": [],
   "source": [
    "\n",
    "\n",
    "# Sample text from the DSSP file\n",
    "dssp_text = \"\"\"\n",
    ">1A0A_3_A 63\n",
    "MKRESHKHAEQARRNRLAVALHELASLIPAEWKQQNVSAAPSKATTVEAACRYIRHLQQNGST\n",
    "CCTTGGGGGTHHHHHHHHHHHHHHHHTSCHHHHTSSCCCCSCTTHHHHHHHHHHHHHHTCSCC\n",
    "360.0 -71.2 -60.6 -165.0 -77.4 -48.7 7.8 -43.8 -53.2 -73.1 -59.8 -53.7 -105.5 -63.3 -44.7 -58.8 -50.0 -61.6 -68.8 -58.5 -63.5 -69.6 -71.2 -71.4 -95.4 -71.0 -101.3 -114.3 -94.3 -55.2 -52.6 -77.9 -17.1 -58.7 -70.8 -69.2 -57.7 -64.4 -91.7 150.6 -76.6 -125.6 -76.8 -169.3 -55.9 -96.8 -63.1 -56.3 -58.1 -52.5 -74.7 -41.1 -54.6 -51.8 -42.3 -71.6 -29.5 -52.9 -72.7 -88.0 97.8 -48.4 -159.3\n",
    "56.2 25.9 31.1 -54.7 -15.5 -22.9 -78.2 -26.5 -27.3 -80.4 -46.2 -16.8 -35.0 -34.7 -42.9 -60.2 -28.4 -61.4 -25.7 -44.3 -37.1 -43.5 -20.3 -17.5 -27.5 -39.6 30.7 145.0 116.1 -46.8 -18.9 -68.4 -34.6 -28.0 -51.3 134.8 127.2 126.4 -50.8 150.9 82.0 157.8 41.9 -53.5 -22.1 -17.1 -29.1 -51.5 -50.9 -19.8 -56.5 -59.1 -63.6 -61.7 -42.5 -72.1 -30.4 -77.2 65.0 115.4 -22.0 127.8 360.0\n",
    "170 139 180 100 71 89 145 145 43 85 97 48 136 132 72 167 108 27 67 49 15 98 140 61 47 75 135 32 31 82 188 21 61 189 114 24 129 115 60 56 141 54 132 49 32 29 65 110 9 8 65 147 57 93 181 97 74 137 158 118 54 64 208\n",
    "\"\"\"\n",
    "file_list_path = '/mnt/nvme/home/bbabatun/IDL/PROJECT/SPOT-1D-LM/spot_1d_lm/lists/TEST2018.txt'\n",
    "results_path = '/mnt/nvme/home/bbabatun/IDL/PROJECT/SPOT-1D-LM/results/'\n",
    "\n",
    "# Path to the DSSP file\n",
    "dssp_file_path = '/mnt/nvme/home/bbabatun/IDL/PROJECT/SPOT-1D-LM/spot_1d_lm/dssp/'\n",
    "dssp_ext = '.dssp'\n",
    "results_ext = '.csv'\n",
    "\n",
    "dssp_file = 'path_to_your_dssp_file.txt'  # Replace with your actual file path\n",
    "\n",
    "# Reading the DSSP file\n",
    "with open(dssp_file_path, 'r') as file:\n",
    "    lines = file.readlines()\n",
    "\n",
    "# Reading the DSSP data into a dataframe\n",
    "# dssp_data = StringIO(dssp_text.strip())\n",
    "# lines = dssp_data.readlines()\n",
    "\n",
    "# Extracting the relevant lines\n",
    "amino_acid_code = lines[1].strip()\n",
    "ss3 = lines[2].strip()\n",
    "phi_angles = lines[3].strip().split()\n",
    "psi_angles = lines[4].strip().split()\n",
    "asa = lines[5].strip().split()\n",
    "\n",
    "# Creating the dataframe\n",
    "df = pd.DataFrame({\n",
    "    'Amino Acid Code': list(amino_acid_code),\n",
    "    'SS3': list(ss3),\n",
    "    'PHI Angles': phi_angles,\n",
    "    'PSI Angles': psi_angles,\n",
    "    'ASA': asa\n",
    "})\n",
    "\n",
    "df.head()  # Displaying the first few rows of the dataframe\n"
   ]
  },
  {
   "cell_type": "code",
   "execution_count": 86,
   "metadata": {},
   "outputs": [
    {
     "name": "stdout",
     "output_type": "stream",
     "text": [
      "68.97551999999999\n",
      "68.85416666666667\n"
     ]
    }
   ],
   "source": [
    "import pandas as pd\n",
    "import numpy as np\n",
    "\n",
    "def get_protein_names(file_name_lists):\n",
    "    # read the name of the proteins\n",
    "    with open(file_name_lists, 'r') as file:\n",
    "        prot_names = [line.strip() for line in file]\n",
    "    # end with\n",
    "    # print(prot_names)\n",
    "    return prot_names\n",
    "# end def\n",
    "\n",
    "def get_actual_protein_dssp(dssp_file_name):\n",
    "    \"\"\"\n",
    "    dssp_file_name includes file path and extension\n",
    "    \"\"\"\n",
    "    with open(dssp_file_name, 'r') as file:\n",
    "        lines = file.readlines()\n",
    "    # end with\n",
    "\n",
    "    # print(lines[0])\n",
    "\n",
    "    # Extracting the relevant lines\n",
    "    amino_acid_code = lines[1].strip()\n",
    "    ss3 = lines[2].strip()\n",
    "    phi_angles = lines[3].strip().split()\n",
    "    psi_angles = lines[4].strip().split()\n",
    "    asa = lines[5].strip().split()\n",
    "\n",
    "    # Creating the dataframe\n",
    "    actual = pd.DataFrame({\n",
    "        'AA': list(amino_acid_code),\n",
    "        'SS3': list(ss3),\n",
    "        'Phi': phi_angles,\n",
    "        'Psi': psi_angles,\n",
    "        'ASA': asa\n",
    "    })\n",
    "\n",
    "    # this converts to float numbers and accounts for 'X'\n",
    "    actual['Phi'] = pd.to_numeric(actual['Phi'], errors='coerce')\n",
    "    actual['Psi'] = pd.to_numeric(actual['Psi'], errors='coerce')\n",
    "    actual['ASA'] = pd.to_numeric(actual['ASA'], errors='coerce') \n",
    "    return actual\n",
    "# end def\n",
    "\n",
    "def get_pred_protein_csv(results_file_name):\n",
    "    \"\"\"\n",
    "    results_file_name includes filepath and extension\n",
    "    \"\"\"\n",
    "    pred = pd.read_csv(results_file_name)\n",
    "    return pred\n",
    "# end def\n",
    "\n",
    "def calculate_q3_score(predicted, actual):\n",
    "    correct_predicted = sum(p == a for p, a in zip(predicted, actual))\n",
    "    return round((correct_predicted / len(actual))*100,2)\n",
    "# end def\n",
    "\n",
    "def average_q3_score(protein_list):\n",
    "    \"\"\" protein_list is zipped \"\"\"\n",
    "    total_score = 0\n",
    "    correct_predicted = sum(predicted == actual for predicted, actual in protein_list)\n",
    "    q3_score = round((correct_predicted / len(protein_list))*100,2)\n",
    "    return q3_score\n",
    "# end def\n",
    "\n",
    "file_lists_name = '/mnt/nvme/home/bbabatun/IDL/PROJECT/SPOT-1D-LM/spot_1d_lm/lists/TEST2018.txt'\n",
    "dssp_file_path = '/mnt/nvme/home/bbabatun/IDL/PROJECT/SPOT-1D-LM/spot_1d_lm/dssp/'\n",
    "dssp_ext = '.dssp'\n",
    "results_ext = '.csv'\n",
    "results_file_path = '/mnt/nvme/home/bbabatun/IDL/PROJECT/SPOT-1D-LM/results/'\n",
    "\n",
    "def get_files_calculate_ss3(file_lists_name, dssp_file_path, results_file_path, dssp_ext, results_ext):\n",
    "    protein_names = get_protein_names(file_lists_name)\n",
    "    q3_score_avgs = []\n",
    "    for protein in protein_names:\n",
    "        dssp_file_name = dssp_file_path + protein + dssp_ext\n",
    "        actual = get_actual_protein_dssp(dssp_file_name)\n",
    "\n",
    "        result_file_name = results_file_path + protein + results_ext\n",
    "        pred = get_pred_protein_csv(result_file_name)\n",
    "\n",
    "        if len(pred) != len(actual):\n",
    "            raise ValueError(\"actualicted and actual sequences must be of the same length\")\n",
    "\n",
    "        # Get the indices where the mask is True\n",
    "        not_x_idx = actual[actual['SS3'] != 'X'].index\n",
    "        ss3 = list(zip(pred['SS3'][not_x_idx], actual['SS3'][not_x_idx],))\n",
    "        q3_score_avgs.append(average_q3_score(ss3))\n",
    "    # end for\n",
    "    return q3_score_avgs, np.average(q3_score_avgs)\n",
    "# end def\n",
    "\n",
    "ss3_accuracies, average_ss3_accuracy = get_files_calculate_ss3(file_lists_name, dssp_file_path, results_file_path, dssp_ext, results_ext)\n",
    "print(average_ss3_accuracy)\n",
    "\n",
    "ss3_accuracies = np.array(ss3_accuracies)\n",
    "Q1 = np.percentile(ss3_accuracies, 25)\n",
    "Q3 = np.percentile(ss3_accuracies, 75)\n",
    "\n",
    "# Calculate the IQR\n",
    "IQR = Q3 - Q1\n",
    "\n",
    "# Determine the outliers\n",
    "lower_bound = Q1 - 1.5 * IQR\n",
    "upper_bound = Q3 + 1.5 * IQR\n",
    "\n",
    "# Filter out the outliers\n",
    "filtered_data = ss3_accuracies[(ss3_accuracies >= lower_bound) & (ss3_accuracies <= upper_bound)]\n",
    "\n",
    "# Calculate the mean of the filtered data\n",
    "mean_filtered = np.mean(filtered_data)\n",
    "print(mean_filtered)\n",
    "\n",
    "\n"
   ]
  },
  {
   "cell_type": "code",
   "execution_count": 75,
   "metadata": {},
   "outputs": [
    {
     "name": "stdout",
     "output_type": "stream",
     "text": [
      "0.8063\n"
     ]
    }
   ],
   "source": [
    "from scipy.stats import pearsonr\n",
    "\n",
    "def get_files_calculate_asa(file_lists_name, dssp_file_path, results_file_path, dssp_ext, results_ext):\n",
    "    protein_names = get_protein_names(file_lists_name)\n",
    "    pearson_cc_avg = []\n",
    "    for protein in protein_names:\n",
    "        dssp_file_name = dssp_file_path + protein + dssp_ext\n",
    "        actual = get_actual_protein_dssp(dssp_file_name)\n",
    "\n",
    "        result_file_name = results_file_path + protein + results_ext\n",
    "        pred = get_pred_protein_csv(result_file_name)\n",
    "\n",
    "        if len(pred) != len(actual):\n",
    "            raise ValueError(\"actualicted and actual sequences must be of the same length\")\n",
    "\n",
    "        not_nan_idx = actual[actual['ASA'].notna()].index\n",
    "        # print(not_nan_idx)\n",
    "        # print(pred['ASA'][not_nan_idx])\n",
    "        # print(actual['ASA'][not_nan_idx])\n",
    "        statistic, p_value =  pearsonr(pred['ASA'][not_nan_idx], actual['ASA'][not_nan_idx])\n",
    "        # print('check')\n",
    "        # print(ss3)\n",
    "        pearson_cc_avg.append(statistic)\n",
    "    # end for\n",
    "    return pearson_cc_avg, round(np.average(pearson_cc_avg),4)\n",
    "# end def\n",
    "\n",
    "asa_pcc, average_asa_pcc = get_files_calculate_asa(file_lists_name, dssp_file_path, results_file_path, dssp_ext, results_ext)\n",
    "print(average_asa_pcc)"
   ]
  },
  {
   "cell_type": "code",
   "execution_count": 71,
   "metadata": {},
   "outputs": [
    {
     "name": "stdout",
     "output_type": "stream",
     "text": [
      "22.507\n"
     ]
    }
   ],
   "source": [
    "def get_files_calculate_mse(file_lists_name, dssp_file_path, results_file_path, dssp_ext, results_ext):\n",
    "    protein_names = get_protein_names(file_lists_name)\n",
    "    mean_abs_err_avg = []\n",
    "    for protein in protein_names:\n",
    "        dssp_file_name = dssp_file_path + protein + dssp_ext\n",
    "        actual = get_actual_protein_dssp(dssp_file_name)\n",
    "\n",
    "        result_file_name = results_file_path + protein + results_ext\n",
    "        pred = get_pred_protein_csv(result_file_name)\n",
    "\n",
    "        if len(pred) != len(actual):\n",
    "            raise ValueError(\"actualicted and actual sequences must be of the same length\")\n",
    "\n",
    "        not_nan_idx = actual[actual['Phi'].notna()].index\n",
    "        mean_abs_err_avg.append(np.mean(np.abs(np.array(pred['Phi'][not_nan_idx]) - np.array(actual['Phi'][not_nan_idx]))))\n",
    "    # end for\n",
    "    return mean_abs_err_avg, round(np.average(mean_abs_err_avg),3)\n",
    "# end def\n",
    "\n",
    "mserrors, average_mse = get_files_calculate_mse(file_lists_name, dssp_file_path, results_file_path, dssp_ext, results_ext)\n",
    "print(average_mse)\n"
   ]
  },
  {
   "cell_type": "code",
   "execution_count": 84,
   "metadata": {},
   "outputs": [
    {
     "name": "stdout",
     "output_type": "stream",
     "text": [
      "31.995\n",
      "29.046287429474866\n"
     ]
    }
   ],
   "source": [
    "def get_files_calculate_mse(file_lists_name, dssp_file_path, results_file_path, dssp_ext, results_ext):\n",
    "    protein_names = get_protein_names(file_lists_name)\n",
    "    mean_abs_err_avg = []\n",
    "    for protein in protein_names:\n",
    "        dssp_file_name = dssp_file_path + protein + dssp_ext\n",
    "        actual = get_actual_protein_dssp(dssp_file_name)\n",
    "\n",
    "        result_file_name = results_file_path + protein + results_ext\n",
    "        pred = get_pred_protein_csv(result_file_name)\n",
    "\n",
    "        if len(pred) != len(actual):\n",
    "            raise ValueError(\"actualicted and actual sequences must be of the same length\")\n",
    "\n",
    "        not_nan_idx = actual[actual['Psi'].notna()].index\n",
    "        mean_abs_err_avg.append(np.mean(np.abs(np.array(pred['Psi'][not_nan_idx]) - np.array(actual['Psi'][not_nan_idx]))))\n",
    "    # end for\n",
    "    return mean_abs_err_avg, round(np.average(mean_abs_err_avg),3)\n",
    "# end def\n",
    "\n",
    "mserrors, average_mse = get_files_calculate_mse(file_lists_name, dssp_file_path, results_file_path, dssp_ext, results_ext)\n",
    "print(average_mse)\n"
   ]
  }
 ],
 "metadata": {
  "kernelspec": {
   "display_name": "idlf23",
   "language": "python",
   "name": "python3"
  },
  "language_info": {
   "codemirror_mode": {
    "name": "ipython",
    "version": 3
   },
   "file_extension": ".py",
   "mimetype": "text/x-python",
   "name": "python",
   "nbconvert_exporter": "python",
   "pygments_lexer": "ipython3",
   "version": "3.8.10 (default, Sep 28 2021, 16:10:42) \n[GCC 9.3.0]"
  },
  "orig_nbformat": 4,
  "vscode": {
   "interpreter": {
    "hash": "0e96ed978892fa1328c525a5c5744ed648b1e603d99637a2d5cb2c8c84d38b89"
   }
  }
 },
 "nbformat": 4,
 "nbformat_minor": 2
}
